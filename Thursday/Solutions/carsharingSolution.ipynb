{
 "cells": [
  {
   "cell_type": "code",
   "execution_count": null,
   "metadata": {},
   "outputs": [],
   "source": [
    "from gurobipy import *\n",
    "from math import sqrt\n",
    "\n",
    "def dist(i,j): #distance function\n",
    "    return distanceFactor * math.sqrt((pos[i][0]-pos[j][0])**2+(pos[i][1]-pos[j][1])**2)\n",
    "\n",
    "m = Model() #create model\n",
    "\n",
    "costPerKm=0.7 #get data from excercise\n",
    "distanceFactor=1.5\n",
    "n=10\n",
    "pos=[[0,0],[20,20],[18,10],[30,12],[35,0],[33,25],[5,27],[5,10],[11,0],[2,15]]\n",
    "needed=[12,7,8,11,10,9,15,7,9,12]\n",
    "available=[10,13,5,8,12,4,14,12,15,7]\n",
    "\n",
    "flow=m.addVars(10,10,vtype=GRB.CONTINUOUS,lb=0) #create variables\n",
    "for i in range(n): #add constraints\n",
    "    expr=0\n",
    "    for j in range(n):\n",
    "        expr+=flow[(j,i)]\n",
    "        expr-=flow[(i,j)]\n",
    "    m.addConstr(expr>=needed[i]-available[i])\n",
    "    \n",
    "for i in range(n): #add objective\n",
    "    for j in range(n):\n",
    "        flow[(i,j)].obj=costPerKm*dist(i,j)\n",
    "        \n",
    "m.optimize() #optimize\n",
    "\n",
    "for i in range(n): #report result\n",
    "    print(f\"outflow from station {i}: {[flow[(i,j)].x for j in range(n)]}\")"
   ]
  },
  {
   "cell_type": "code",
   "execution_count": null,
   "metadata": {},
   "outputs": [],
   "source": []
  }
 ],
 "metadata": {
  "anaconda-cloud": {},
  "kernelspec": {
   "display_name": "Python 3",
   "language": "python",
   "name": "python3"
  },
  "language_info": {
   "codemirror_mode": {
    "name": "ipython",
    "version": 3
   },
   "file_extension": ".py",
   "mimetype": "text/x-python",
   "name": "python",
   "nbconvert_exporter": "python",
   "pygments_lexer": "ipython3",
   "version": "3.7.0"
  }
 },
 "nbformat": 4,
 "nbformat_minor": 4
}
