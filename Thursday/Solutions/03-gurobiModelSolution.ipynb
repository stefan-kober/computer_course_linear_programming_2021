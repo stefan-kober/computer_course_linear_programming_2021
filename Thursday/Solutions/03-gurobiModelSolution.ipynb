{
 "cells": [
  {
   "cell_type": "markdown",
   "metadata": {},
   "source": [
    "# Creating a Model: Mensa"
   ]
  },
  {
   "cell_type": "markdown",
   "metadata": {},
   "source": [
    "Source/Basis: https://www.gurobi.com/documentation/8.1/examples/"
   ]
  },
  {
   "cell_type": "markdown",
   "metadata": {},
   "source": [
    "## Model Description\n",
    "\n",
    "As you might already know, our new mensa in Garching is now based on a self-service system. A side-effect of this is, that one can choose exactly how large their portion should be. Besides having many advantages, this system also makes everyone responsible for his own healthy diet. The below table depicts the minimum and maximum recommended intake for different nutritional values.\n",
    "\n",
    "| Nutritional Value | Min intake | Max intake |\n",
    "|-------------------|------------|------------|\n",
    "| calories          | 1800       | 2200       |\n",
    "| protein           | 91         | $\\infty$   |\n",
    "| fat               | 0          | 65         |\n",
    "| sugars            | 0          | 40         |\n",
    "\n",
    "The individual dishes from which it is possible to choose all come with a price and their respective nutritional values:\n",
    "\n",
    "| Dish      | Price /100g | calories /100g | protein /100g | fat /100g | sugars /100g |\n",
    "|-----------|-------------|----------------|---------------|-----------|--------------|\n",
    "| chicken   | 1.50        | 239            | 27            | 1.1       | 0            |\n",
    "| fries     | 0.75        | 312            | 3.4           | 15        | 0.3          |\n",
    "| macaroni  | 0.75        | 164            | 7             | 10        | 1.6          |\n",
    "| pizza     | 1.00        | 266            | 11            | 10        | 3.6          |\n",
    "| salad     | 0.50        | 152            | 1             | 5         | 12           |\n",
    "| milk      | 0.33        | 149            | 3.4           | 1         | 5            |\n",
    "| ice cream | 1.00        | 207            | 2             | 7         | 21           |\n",
    "\n",
    "Your objective is to find a meal arrangement, that complies with the nutritional recommendations while being as cheap as possible."
   ]
  },
  {
   "cell_type": "markdown",
   "metadata": {},
   "source": [
    "### Step 1: Loading Gurobi"
   ]
  },
  {
   "cell_type": "code",
   "execution_count": 1,
   "metadata": {},
   "outputs": [],
   "source": [
    "from gurobipy import *"
   ]
  },
  {
   "cell_type": "markdown",
   "metadata": {},
   "source": [
    "### Step 2: Create a Model"
   ]
  },
  {
   "cell_type": "code",
   "execution_count": 2,
   "metadata": {},
   "outputs": [
    {
     "name": "stdout",
     "output_type": "stream",
     "text": [
      "Academic license - for non-commercial use only\n"
     ]
    }
   ],
   "source": [
    "m = Model()"
   ]
  },
  {
   "cell_type": "markdown",
   "metadata": {},
   "source": [
    "### Step 3: Create Variables\n",
    "\n",
    "Above tables are already given to you as dictionaries. Recall, that variables can be created from lists and the keys of dictionaries."
   ]
  },
  {
   "cell_type": "code",
   "execution_count": 3,
   "metadata": {},
   "outputs": [],
   "source": [
    "dishes = {'chicken':{'price':1.5, 'calories':239, 'protein':27, 'fat':1.1, 'sugars':0},\n",
    "         'fries':{'price':0.75, 'calories':312, 'protein':3.4, 'fat':15, 'sugars':0.3},\n",
    "         'macaroni':{'price':0.75, 'calories':164, 'protein':7, 'fat':10, 'sugars':1.6},\n",
    "         'pizza':{'price':1.0, 'calories':266, 'protein':11, 'fat':10, 'sugars':3.6},\n",
    "         'salad':{'price':0.5, 'calories':152, 'protein':1, 'fat':5, 'sugars':12},\n",
    "         'milk':{'price':0.33, 'calories':149, 'protein':3.4, 'fat':1, 'sugars':5},\n",
    "         'ice cream':{'price':1.0, 'calories':207, 'protein':2, 'fat':7, 'sugars':21},\n",
    "         }\n",
    "nutrition = {'calories':{'min':1800,'max':2200},\n",
    "            'protein':{'min':91,'max':GRB.INFINITY},\n",
    "            'fat':{'min':0,'max':65},\n",
    "            'sugars':{'min':0,'max':40},\n",
    "            }"
   ]
  },
  {
   "cell_type": "code",
   "execution_count": 4,
   "metadata": {},
   "outputs": [],
   "source": [
    "x = m.addVars(dishes,lb=0,vtype=GRB.CONTINUOUS)"
   ]
  },
  {
   "cell_type": "markdown",
   "metadata": {},
   "source": [
    "### Step 4: Add Objective\n",
    "\n",
    "Recall, that you can set the objective on the model or on each variable."
   ]
  },
  {
   "cell_type": "code",
   "execution_count": 5,
   "metadata": {},
   "outputs": [],
   "source": [
    "for d,dval in dishes.items():\n",
    "    x[d].obj=-dval['price']\n",
    "    \n",
    "m.ModelSense=GRB.MAXIMIZE"
   ]
  },
  {
   "cell_type": "markdown",
   "metadata": {},
   "source": [
    "### Step 5: Add Constraints\n",
    "\n",
    "Recall the different options to create constraints and how to work with dictionaries."
   ]
  },
  {
   "cell_type": "code",
   "execution_count": 6,
   "metadata": {},
   "outputs": [],
   "source": [
    "for n,nval in nutrition.items():\n",
    "    expr = 0\n",
    "    for d,dval in dishes.items():\n",
    "        expr+=dval[n]*x[d]\n",
    "    m.addConstr(expr>=nval['min'])\n",
    "    m.addConstr(expr<=nval['max'])"
   ]
  },
  {
   "cell_type": "markdown",
   "metadata": {},
   "source": [
    "### Step 6: Solve"
   ]
  },
  {
   "cell_type": "code",
   "execution_count": 7,
   "metadata": {},
   "outputs": [
    {
     "name": "stdout",
     "output_type": "stream",
     "text": [
      "Optimize a model with 8 rows, 7 columns and 54 nonzeros\n",
      "Coefficient statistics:\n",
      "  Matrix range     [3e-01, 3e+02]\n",
      "  Objective range  [3e-01, 2e+00]\n",
      "  Bounds range     [0e+00, 0e+00]\n",
      "  RHS range        [4e+01, 2e+03]\n",
      "Presolve removed 4 rows and 0 columns\n",
      "Presolve time: 0.01s\n",
      "Presolved: 4 rows, 8 columns, 28 nonzeros\n",
      "\n",
      "Iteration    Objective       Primal Inf.    Dual Inf.      Time\n",
      "       0   -0.0000000e+00   1.472500e+02   0.000000e+00      0s\n",
      "       3   -6.2714370e+00   0.000000e+00   0.000000e+00      0s\n",
      "\n",
      "Solved in 3 iterations and 0.01 seconds\n",
      "Optimal objective -6.271436986e+00\n"
     ]
    }
   ],
   "source": [
    "m.optimize()\n"
   ]
  },
  {
   "cell_type": "markdown",
   "metadata": {},
   "source": [
    "### Step 7: Display Solution (in a meaningful way)"
   ]
  },
  {
   "cell_type": "code",
   "execution_count": 8,
   "metadata": {},
   "outputs": [
    {
     "name": "stdout",
     "output_type": "stream",
     "text": [
      "chicken: 234.4330115911304g\n",
      "fries: 15.741141126245072g\n",
      "macaroni: 0.0g\n",
      "pizza: 0.0g\n",
      "salad: 0.0g\n",
      "milk: 799.0555315324252g\n",
      "ice cream: 0.0g\n"
     ]
    }
   ],
   "source": [
    "for d in dishes:\n",
    "    print(f\"{d}: {x[d].x*100}g\")"
   ]
  },
  {
   "cell_type": "markdown",
   "metadata": {},
   "source": [
    "### Step 8: Interpret Outcome and Refinement of Model\n",
    "\n",
    "If you worked correctly, then you should have recieved an optimal mealplan. Probably, the amount of milk is on the heavy side though. In order to get a really reasonable result, you should limit the amount of milk to `200g`. Also, the diet does not include any vitamines. Please add at least `100g` of salad to your meal choice.\n",
    "\n",
    "Add the constraints to the existing model and optimize again to see the resulting meal plan."
   ]
  },
  {
   "cell_type": "code",
   "execution_count": 9,
   "metadata": {},
   "outputs": [
    {
     "name": "stdout",
     "output_type": "stream",
     "text": [
      "Optimize a model with 10 rows, 7 columns and 56 nonzeros\n",
      "Coefficient statistics:\n",
      "  Matrix range     [3e-01, 3e+02]\n",
      "  Objective range  [3e-01, 2e+00]\n",
      "  Bounds range     [0e+00, 0e+00]\n",
      "  RHS range        [1e+00, 2e+03]\n",
      "Iteration    Objective       Primal Inf.    Dual Inf.      Time\n",
      "       0   -6.2714370e+00   1.118489e+02   0.000000e+00      0s\n",
      "       2   -7.0034059e+00   0.000000e+00   0.000000e+00      0s\n",
      "\n",
      "Solved in 2 iterations and 0.01 seconds\n",
      "Optimal objective -7.003405944e+00\n",
      "chicken: 280.7420448274956g\n",
      "fries: 217.63670284047615g\n",
      "macaroni: 0.0g\n",
      "pizza: 0.0g\n",
      "salad: 100.0g\n",
      "milk: 200.0g\n",
      "ice cream: 0.0g\n"
     ]
    }
   ],
   "source": [
    "m.addConstr(x['milk']<=2)\n",
    "m.addConstr(x['salad']>=1)\n",
    "m.optimize()\n",
    "for d in dishes:\n",
    "    print(f\"{d}: {x[d].x*100}g\")"
   ]
  },
  {
   "cell_type": "code",
   "execution_count": null,
   "metadata": {},
   "outputs": [],
   "source": []
  }
 ],
 "metadata": {
  "anaconda-cloud": {},
  "kernelspec": {
   "display_name": "Python 3",
   "language": "python",
   "name": "python3"
  },
  "language_info": {
   "codemirror_mode": {
    "name": "ipython",
    "version": 3
   },
   "file_extension": ".py",
   "mimetype": "text/x-python",
   "name": "python",
   "nbconvert_exporter": "python",
   "pygments_lexer": "ipython3",
   "version": "3.7.0"
  }
 },
 "nbformat": 4,
 "nbformat_minor": 4
}
