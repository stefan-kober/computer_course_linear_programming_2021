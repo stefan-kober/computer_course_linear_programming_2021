{
 "cells": [
  {
   "cell_type": "markdown",
   "metadata": {},
   "source": [
    "# Introduction"
   ]
  },
  {
   "cell_type": "markdown",
   "metadata": {},
   "source": [
    "## Python Basics\n",
    "In this course, we will use Python as our programming language. For those of you who have not used python before, here is a brief introduction.\n",
    "Please work through the code snippets. It is encouraged to play with them in order to increase your understanding. For those of you who already have prior python knowledge, there are some advanced excercises at the end of each section.\n",
    "\n",
    "### Documentation\n",
    "Documentation for Python is available at https://docs.python.org/3/.\n",
    "\n",
    "### Output, Calculation, Variables\n",
    "In Jupyter Labs, the result of the last operation in a cell will be displayed automatically (just press Shift+Enter to execute the cell). But if you need to output any messages in your functions, loops, etc., you can use the print command to do this."
   ]
  },
  {
   "cell_type": "code",
   "execution_count": null,
   "metadata": {},
   "outputs": [],
   "source": [
    "print('Hello, World!')"
   ]
  },
  {
   "cell_type": "markdown",
   "metadata": {},
   "source": [
    "Python knows the usual mathematical operations `+`, `-`, `*` and `/`. In addition, `//` can be used for integer division, `%` returns the modulus and `**` is exponentiation. "
   ]
  },
  {
   "cell_type": "code",
   "execution_count": null,
   "metadata": {},
   "outputs": [],
   "source": [
    "3*5"
   ]
  },
  {
   "cell_type": "code",
   "execution_count": null,
   "metadata": {},
   "outputs": [],
   "source": [
    "7-3"
   ]
  },
  {
   "cell_type": "code",
   "execution_count": null,
   "metadata": {},
   "outputs": [],
   "source": [
    "5//3"
   ]
  },
  {
   "cell_type": "code",
   "execution_count": null,
   "metadata": {},
   "outputs": [],
   "source": [
    "5%3"
   ]
  },
  {
   "cell_type": "code",
   "execution_count": null,
   "metadata": {},
   "outputs": [],
   "source": [
    "3**5"
   ]
  },
  {
   "cell_type": "markdown",
   "metadata": {},
   "source": [
    "Comparisons can be made with `<`, `>`, `<=`, `>=`, `==`, `!=`. Any truth value may be negated with `not` or combined with `and` and `or`."
   ]
  },
  {
   "cell_type": "code",
   "execution_count": null,
   "metadata": {},
   "outputs": [],
   "source": [
    "5 <= 7"
   ]
  },
  {
   "cell_type": "code",
   "execution_count": null,
   "metadata": {},
   "outputs": [],
   "source": [
    "(8 < 9) and (3 >= 2)"
   ]
  },
  {
   "cell_type": "code",
   "execution_count": null,
   "metadata": {},
   "outputs": [],
   "source": [
    "(8 < 9) and not (3 >= 2)"
   ]
  },
  {
   "cell_type": "code",
   "execution_count": null,
   "metadata": {},
   "outputs": [],
   "source": [
    "4 == 4"
   ]
  },
  {
   "cell_type": "markdown",
   "metadata": {},
   "source": [
    "Variables are assigned through `=`. Variable names begin with a letter and may contain letters, numbers and underscores. You do not have to declare variables before assigning a value to them and their type will change according to the value they currently hold. Variables that hold no value have the special value `None`. The values stored in a variable can be interpolated into a string using the \"f-string\" syntax like this: `f\"The Value is {value}.\""
   ]
  },
  {
   "cell_type": "code",
   "execution_count": null,
   "metadata": {},
   "outputs": [],
   "source": [
    "a = 5; b = 7"
   ]
  },
  {
   "cell_type": "code",
   "execution_count": null,
   "metadata": {},
   "outputs": [],
   "source": [
    "a+b"
   ]
  },
  {
   "cell_type": "code",
   "execution_count": null,
   "metadata": {},
   "outputs": [],
   "source": [
    "print(f\"The value of a*b is {a*b}.\")"
   ]
  },
  {
   "cell_type": "markdown",
   "metadata": {},
   "source": [
    "**Excercise 1: Modulus**\n",
    "\n",
    "Print the following sentence: `111 is divisible by 37: True` by checking the result using mathematical operations and printing a f-string."
   ]
  },
  {
   "cell_type": "code",
   "execution_count": null,
   "metadata": {},
   "outputs": [],
   "source": []
  },
  {
   "cell_type": "markdown",
   "metadata": {},
   "source": [
    "### Sets, Lists, Dictionaries and Tuples \n",
    "In addition to the elementary data types, you can use lists, sets and dictionaries to store collections of data.\n",
    "* **Lists** are ordered and indexed from `0`. They can contain elements of different type, may contain the same value more than once and are initialized through `[]`. Membership can be tested through `in`."
   ]
  },
  {
   "cell_type": "code",
   "execution_count": null,
   "metadata": {},
   "outputs": [],
   "source": [
    "L = [3,4,4,8]"
   ]
  },
  {
   "cell_type": "code",
   "execution_count": null,
   "metadata": {},
   "outputs": [],
   "source": [
    "len(L)"
   ]
  },
  {
   "cell_type": "code",
   "execution_count": null,
   "metadata": {},
   "outputs": [],
   "source": [
    "3 in L"
   ]
  },
  {
   "cell_type": "code",
   "execution_count": null,
   "metadata": {},
   "outputs": [],
   "source": [
    "5 in L"
   ]
  },
  {
   "cell_type": "code",
   "execution_count": null,
   "metadata": {},
   "outputs": [],
   "source": [
    "L.append(5);L"
   ]
  },
  {
   "cell_type": "code",
   "execution_count": null,
   "metadata": {},
   "outputs": [],
   "source": [
    "L.insert(0,1);L"
   ]
  },
  {
   "cell_type": "code",
   "execution_count": null,
   "metadata": {},
   "outputs": [],
   "source": [
    "L1=[13,7,9]\n",
    "L2=L+L1; L2"
   ]
  },
  {
   "cell_type": "markdown",
   "metadata": {},
   "source": [
    "It is possible to access one or several entries of a list with `L[a:b:c]`. The parameters can be positive as well as negative, but they need to be integers. This operation is called slicing."
   ]
  },
  {
   "cell_type": "code",
   "execution_count": null,
   "metadata": {},
   "outputs": [],
   "source": [
    "L[2.1]"
   ]
  },
  {
   "cell_type": "code",
   "execution_count": null,
   "metadata": {},
   "outputs": [],
   "source": [
    "L[int(2.1)]"
   ]
  },
  {
   "cell_type": "code",
   "execution_count": null,
   "metadata": {},
   "outputs": [],
   "source": [
    "L[-2]"
   ]
  },
  {
   "cell_type": "code",
   "execution_count": null,
   "metadata": {},
   "outputs": [],
   "source": [
    "L[:2]"
   ]
  },
  {
   "cell_type": "code",
   "execution_count": null,
   "metadata": {},
   "outputs": [],
   "source": [
    "L[2:4]"
   ]
  },
  {
   "cell_type": "code",
   "execution_count": null,
   "metadata": {},
   "outputs": [],
   "source": [
    "L[::-1]"
   ]
  },
  {
   "cell_type": "code",
   "execution_count": null,
   "metadata": {},
   "outputs": [],
   "source": [
    "L[:]"
   ]
  },
  {
   "cell_type": "code",
   "execution_count": null,
   "metadata": {},
   "outputs": [],
   "source": [
    "L[1:-2:2]"
   ]
  },
  {
   "cell_type": "markdown",
   "metadata": {},
   "source": [
    "Lists are mutable. This has two consequences: On the one hand, individual entries of a list can be changed. On the other hand, when some list is created to be equal to another list, both of the list point to the same internal memory and are modified together. This does not hold if a list was copied by slicing.\n",
    "\n",
    "**In the following, `L3` and `L4` each are copies of `L`. Note how `L` changes when `L3` or `L4` respectively are changed.**"
   ]
  },
  {
   "cell_type": "code",
   "execution_count": null,
   "metadata": {},
   "outputs": [],
   "source": [
    "L[2]=1;L"
   ]
  },
  {
   "cell_type": "code",
   "execution_count": null,
   "metadata": {},
   "outputs": [],
   "source": [
    "L3=L\n",
    "L3.append(7)\n",
    "L"
   ]
  },
  {
   "cell_type": "code",
   "execution_count": null,
   "metadata": {},
   "outputs": [],
   "source": [
    "L4=L[:]\n",
    "L4.append(13)\n",
    "L"
   ]
  },
  {
   "cell_type": "markdown",
   "metadata": {},
   "source": [
    "* **Tuples** are ordered and indexed from `0`. They can contain elements of different type, may contain the same value more than once and are initialized through `()`. Membership can be tested through `in`. In Contrast to lists, Tuples are immutable. Thus, individual entries can **not** be changed and different tuples point to different parts of the internal memory."
   ]
  },
  {
   "cell_type": "code",
   "execution_count": null,
   "metadata": {},
   "outputs": [],
   "source": [
    "T=(1,2.0,'Three')"
   ]
  },
  {
   "cell_type": "code",
   "execution_count": null,
   "metadata": {},
   "outputs": [],
   "source": [
    "len(T)"
   ]
  },
  {
   "cell_type": "code",
   "execution_count": null,
   "metadata": {},
   "outputs": [],
   "source": [
    "'Three' in T"
   ]
  },
  {
   "cell_type": "code",
   "execution_count": null,
   "metadata": {},
   "outputs": [],
   "source": [
    "3 in T"
   ]
  },
  {
   "cell_type": "code",
   "execution_count": null,
   "metadata": {},
   "outputs": [],
   "source": [
    "T[0]='One'"
   ]
  },
  {
   "cell_type": "markdown",
   "metadata": {},
   "source": [
    "* **Sets** are unordered and not indexed. They can contain elements of different type, but each element may only be contained once. They are initialized through `{}` and membership can be tested with `in`.\n"
   ]
  },
  {
   "cell_type": "code",
   "execution_count": null,
   "metadata": {},
   "outputs": [],
   "source": [
    "S = {3,4,4,8}"
   ]
  },
  {
   "cell_type": "code",
   "execution_count": null,
   "metadata": {},
   "outputs": [],
   "source": [
    "len(S)"
   ]
  },
  {
   "cell_type": "code",
   "execution_count": null,
   "metadata": {},
   "outputs": [],
   "source": [
    "S"
   ]
  },
  {
   "cell_type": "code",
   "execution_count": null,
   "metadata": {},
   "outputs": [],
   "source": [
    "S.add(5)"
   ]
  },
  {
   "cell_type": "code",
   "execution_count": null,
   "metadata": {},
   "outputs": [],
   "source": [
    "S"
   ]
  },
  {
   "cell_type": "code",
   "execution_count": null,
   "metadata": {},
   "outputs": [],
   "source": [
    "5 in S"
   ]
  },
  {
   "cell_type": "markdown",
   "metadata": {},
   "source": [
    "* **Dictionaries** store key-value-assignments, where keys and values may be (with some restrictions) any data type. They do not have an order and are initialized through `{key: value}`. Access to the elements is possible by `D[key]`, not existing keys will automatically be added. Testing for existence of a key is possible through `in`."
   ]
  },
  {
   "cell_type": "code",
   "execution_count": null,
   "metadata": {},
   "outputs": [],
   "source": [
    "D = {'first_name': 'Stefan', 'last_name': 'Kober'}"
   ]
  },
  {
   "cell_type": "code",
   "execution_count": null,
   "metadata": {},
   "outputs": [],
   "source": [
    "D['first_name']"
   ]
  },
  {
   "cell_type": "code",
   "execution_count": null,
   "metadata": {},
   "outputs": [],
   "source": [
    "D['office'] = '02.04.053'"
   ]
  },
  {
   "cell_type": "code",
   "execution_count": null,
   "metadata": {},
   "outputs": [],
   "source": [
    "D"
   ]
  },
  {
   "cell_type": "code",
   "execution_count": null,
   "metadata": {},
   "outputs": [],
   "source": [
    "'first_name' in D"
   ]
  },
  {
   "cell_type": "markdown",
   "metadata": {},
   "source": [
    "**Excercise 2**\n",
    "\n",
    "Determine whether there is a `0`-valued entry on an even position in `L5`."
   ]
  },
  {
   "cell_type": "code",
   "execution_count": null,
   "metadata": {},
   "outputs": [],
   "source": [
    "L5=[1,1,1,1,1,1,1,1,1,1,1,1,1,1,0,1,1,1,1,1,1,1,0,1,1,1,1,1,0,1,1,1,1,1,1,1,1,1,1,1,1,1,1,1,1,1,0]\n"
   ]
  },
  {
   "cell_type": "markdown",
   "metadata": {},
   "source": [
    "**Excercise 3**\n",
    "\n",
    "Construct a new list from `L6` in the following way: First come the odd positions in opposite order, then the even positions in normal order, i.e. `[L6[2n],L6[2n-2],...,L6[0],L6[1],L6[3],...]`. Do **not** just write down the explicit list, but try to use slicing.\n",
    "\n",
    "Bonus points if the same code also works for `L7`."
   ]
  },
  {
   "cell_type": "code",
   "execution_count": null,
   "metadata": {},
   "outputs": [],
   "source": [
    "L6=[1,2,3,4,5,6,7,8]\n",
    "L7=[9,8,7,6,5,4,3,2,1]\n"
   ]
  },
  {
   "cell_type": "markdown",
   "metadata": {},
   "source": [
    "### Conditionals and Loops\n",
    "The `if` construct is used to execution code under a specific condition:\n",
    "```\n",
    "if condition:\n",
    "    # code\n",
    "elif other_condition:\n",
    "    # more code \n",
    "else:\n",
    "    # other code\n",
    "```\n",
    "Note that blocks in Python are denoted through indentation. The level of indentation within a block has to be equal."
   ]
  },
  {
   "cell_type": "code",
   "execution_count": null,
   "metadata": {},
   "outputs": [],
   "source": [
    "a = 5;\n",
    "if a >= 7:\n",
    "    print(\"a is large\")\n",
    "elif a <= 2:\n",
    "    print(\"a is small\")\n",
    "else:\n",
    "    print(\"a is neither large nor small\")"
   ]
  },
  {
   "cell_type": "markdown",
   "metadata": {},
   "source": [
    "A for-loop iterates through all elements of a list, set, dictionary key set or range:"
   ]
  },
  {
   "cell_type": "code",
   "execution_count": null,
   "metadata": {},
   "outputs": [],
   "source": [
    "for i in range(10):\n",
    "    print(f\"{i}*7 = {i*7}\")"
   ]
  },
  {
   "cell_type": "code",
   "execution_count": null,
   "metadata": {},
   "outputs": [],
   "source": [
    "for i in L:\n",
    "    print(i)"
   ]
  },
  {
   "cell_type": "code",
   "execution_count": null,
   "metadata": {},
   "outputs": [],
   "source": [
    "for key in D:\n",
    "    print(f\"{key} -> {D[key]}\")"
   ]
  },
  {
   "cell_type": "code",
   "execution_count": null,
   "metadata": {},
   "outputs": [],
   "source": [
    "for key,value in D.items():\n",
    "    print(f\"{key} -> {value}\")"
   ]
  },
  {
   "cell_type": "markdown",
   "metadata": {},
   "source": [
    "New lists (sets, dictionaries) may be created on the fly by a loop-like construct called a **list comprehension**:"
   ]
  },
  {
   "cell_type": "code",
   "execution_count": null,
   "metadata": {},
   "outputs": [],
   "source": [
    "L_new = [i*4 for i in L]; L_new"
   ]
  },
  {
   "cell_type": "code",
   "execution_count": null,
   "metadata": {},
   "outputs": [],
   "source": [
    "L_if = [i for i in range(7) if not i in range(3,5)]; L_if"
   ]
  },
  {
   "cell_type": "code",
   "execution_count": null,
   "metadata": {},
   "outputs": [],
   "source": [
    "L_elif = [i if not i in range(3,5) else i**2 for i in range(7)]; L_elif"
   ]
  },
  {
   "cell_type": "markdown",
   "metadata": {},
   "source": [
    "**Excercise 4**\n",
    "\n",
    "Decide whether the sum of all entries of `L8` is even."
   ]
  },
  {
   "cell_type": "code",
   "execution_count": null,
   "metadata": {},
   "outputs": [],
   "source": [
    "L8 = [34,568,1374,3457,436,0,123,45,12,7234,19,245,132,723,1235,73]\n"
   ]
  },
  {
   "cell_type": "markdown",
   "metadata": {},
   "source": [
    "**Excercise 5**\n",
    "\n",
    "Below dictionary contains the German states and their respective soccer teams in the 1st and 2nd Bundesliga.\n",
    "\n",
    "Try to find out some statistical information:\n",
    "\n",
    "**a)** How many states have at least one team in the 1st or 2nd Bundesliga?\n",
    "\n",
    "**b)** How many teams are there in the 1st and 2nd Bundesliga combined?\n",
    "\n",
    "**c)** Generate a list containing all states that have at least 3 teams in the 1st and 2nd Bundesliga\n",
    "\n",
    "**d)** Find the state that has most teams in the 1st and 2nd Bundesliga"
   ]
  },
  {
   "cell_type": "code",
   "execution_count": null,
   "metadata": {},
   "outputs": [],
   "source": [
    "D1 = {'Baden-Wuerttemberg':['SC Freiburg','TSG 1899 Hoffenheim','1. FC Heidenheim','Karlsruher SC','SV Sandhausen','VfB Stuttgart'],'Bayern':['FC Augsburg','FC Bayern Muenchen','SpVgg Greuther Fürth','1. FC Nuernberg','SSV Jahn Regensburg'],'Berlin':['1. FC Union Berlin','Hertha BSC'],'Brandenburg':[],'Bremen':['Werder Bremen'],'Hamburg':['Hamburger SV','FC St. Pauli'],'Hessen':['Eintracht Frankfurt','SV Darmstadt 98','SV Wehen Wiesbaden'],'Mecklenburg-Vorpommern':[],'Niedersachsen':['VfL Wolfsburg','Hannover 96','VfL Osnabrueck'],'Nordrhein-Westfalen':['Borussia Dortmund','Fortuna Duesseldorf','1. FC Koeln','Bayer 04 Leverkusen','Borussia Moenchengladbach','SC Paderborn 07','FC Schalke 04','Arminia Bielefeld','VFL Bochum'],'Rheinland-Pfalz':['1. FSV Mainz 05'],'Saarland':[],'Sachsen-Anhalt':[],'Sachsen':['RB Leipzig','FC Erzgebirge Aue','Dynamo Dresden'],'Schleswig-Holstein':['Holstein Kiel'],'Thueringen':[]}\n"
   ]
  },
  {
   "cell_type": "markdown",
   "metadata": {},
   "source": [
    "**Excercise 6: The Complete Graph**\n",
    "\n",
    "Create a list of all `5`-dimensional `0-1`-vectors containing exactly two `1`-valued entries using list comprehension."
   ]
  },
  {
   "cell_type": "code",
   "execution_count": null,
   "metadata": {},
   "outputs": [],
   "source": []
  },
  {
   "cell_type": "markdown",
   "metadata": {},
   "source": [
    "## Functions\n",
    "Functions can be declared through the keyword `def`, a function name and a list of parameters. For the function call, use the function's name followed by `()` that contain the necessary parameters. Parameters may be _named_ or _positional_, usually both is possible (for named parameters the order is arbitrary). The function \"body\" is again denoted by an indented block. Parameters can have default values.\n",
    "A function may return a value through the `return` keyword."
   ]
  },
  {
   "cell_type": "code",
   "execution_count": null,
   "metadata": {},
   "outputs": [],
   "source": [
    "def greet(name = \"Sir/Madam\"):\n",
    "   print(f\"Hey {name}! How are you?\")"
   ]
  },
  {
   "cell_type": "code",
   "execution_count": null,
   "metadata": {},
   "outputs": [],
   "source": [
    "greet('Stefan')"
   ]
  },
  {
   "cell_type": "code",
   "execution_count": null,
   "metadata": {},
   "outputs": [],
   "source": [
    "greet(name='Stefan')"
   ]
  },
  {
   "cell_type": "code",
   "execution_count": null,
   "metadata": {},
   "outputs": [],
   "source": [
    "greet()"
   ]
  },
  {
   "cell_type": "code",
   "execution_count": null,
   "metadata": {},
   "outputs": [],
   "source": [
    "import math # see below for explanation\n",
    "\n",
    "# compute n-th Fibonacci number\n",
    "def fibonacci(n):\n",
    "    A = (1+math.sqrt(5))/2\n",
    "    B = (1-math.sqrt(5))/2\n",
    "    return (A**n - B**n)/(A-B)   "
   ]
  },
  {
   "cell_type": "code",
   "execution_count": null,
   "metadata": {},
   "outputs": [],
   "source": [
    "{f\"f_{n}\": int(fibonacci(n)) for n in range (20)}"
   ]
  },
  {
   "cell_type": "markdown",
   "metadata": {},
   "source": [
    "**Excercise 7**\n",
    "\n",
    "Write a function, that upon input of an integer, returns a binary representation as a list (`10` ->`[1,0,1,0]`)"
   ]
  },
  {
   "cell_type": "code",
   "execution_count": null,
   "metadata": {},
   "outputs": [],
   "source": [
    "def binary(n):\n",
    "    binary=[]\n",
    "    return binary\n",
    "\n",
    "binary(10)"
   ]
  },
  {
   "cell_type": "markdown",
   "metadata": {},
   "source": [
    "**Excercise 8: The `n`-dimensional Unit Cube**\n",
    "\n",
    "Write a function, that upon input of an integer `n` returns all `0-1`-vectors of lenght `n`.\n",
    "\n",
    "Hint: One approach could be to use your function from **7** together with list comprehension."
   ]
  },
  {
   "cell_type": "code",
   "execution_count": null,
   "metadata": {},
   "outputs": [],
   "source": []
  },
  {
   "cell_type": "markdown",
   "metadata": {},
   "source": [
    "## Classes\n",
    "Classes encapsulate data and functions. They can be used to combine data and corresponding functions into a \"unit\" that can act like a new data type. Create them using the `class` keyword with an indented block below. Functions that are contained in a class always take the special parameter `self` as the first parameter. That can be used inside the function to access the other members of the class through `self.member`. The special method `__init(self)__` is called upon creation of an object of that class and may be used to set initial parameters. It can also take (mandatory) parameters."
   ]
  },
  {
   "cell_type": "code",
   "execution_count": null,
   "metadata": {},
   "outputs": [],
   "source": [
    "import math\n",
    "\n",
    "class Point:\n",
    "    def __init__(self,x,y):\n",
    "        self.x = x\n",
    "        self.y = y\n",
    "        \n",
    "    def norm(self):\n",
    "        return math.sqrt(self.x**2 + self.y**2)"
   ]
  },
  {
   "cell_type": "code",
   "execution_count": null,
   "metadata": {},
   "outputs": [],
   "source": [
    "A = Point(3,6)"
   ]
  },
  {
   "cell_type": "code",
   "execution_count": null,
   "metadata": {},
   "outputs": [],
   "source": [
    "A.x"
   ]
  },
  {
   "cell_type": "code",
   "execution_count": null,
   "metadata": {},
   "outputs": [],
   "source": [
    "A.norm()"
   ]
  },
  {
   "cell_type": "markdown",
   "metadata": {},
   "source": [
    "**Excercise 9**\n",
    "\n",
    "Create a `Rectangle` class that constructs a rectangle from a center (`=(x,y)`), a width and a height.\n",
    "\n",
    "**a)** Add a method returning a list of all points of the rectangle.\n",
    "\n",
    "**b)** Add a method, that upon input of another rectangle returns, whether the rectangle `self` contains the rectangle `other`.\n",
    "\n",
    "**c)** Add a method, that upon input of another rectangle returns, whether the rectangle `self` intersects the rectangle `other`."
   ]
  },
  {
   "cell_type": "code",
   "execution_count": null,
   "metadata": {},
   "outputs": [],
   "source": [
    "class Rectangle:\n",
    "    def __init__(self, center, width, height):\n",
    "        \n",
    "    def points(self):\n",
    "        return\n",
    "    \n",
    "    def contains(self, other):       \n",
    "        return\n",
    "    \n",
    "    def intersects(self, other):\n",
    "        return\n",
    "\n",
    "r=Rectangle((0,0),2,2)\n",
    "print(r.points())\n",
    "r.contains(Rectangle((0.5,0.5),0.5,0.5))\n",
    "r.intersects(Rectangle((1.0,1.0),0.1,0.1))"
   ]
  },
  {
   "cell_type": "markdown",
   "metadata": {},
   "source": [
    "## Modules\n",
    "In the example above, We also used the `import` statement. Its purpose is to \"pull in\" functions, classes or constants that were declared in some other file. Python comes with a wide variety of useful modules (the Python standard library) that can be included in your code via `import`. \n",
    "\n",
    "To access members of a module, you can either prefix them with the module name (after you have imported the module) or you can explicitly import a member and then access it its name directly via `from modulename import member`.\n",
    "\n",
    "You may also declare a different name in the import statement with `import modulename as short` to avoid name clashes or to use shortands."
   ]
  },
  {
   "cell_type": "code",
   "execution_count": null,
   "metadata": {},
   "outputs": [],
   "source": [
    "from math import sin,cos"
   ]
  },
  {
   "cell_type": "code",
   "execution_count": null,
   "metadata": {},
   "outputs": [],
   "source": [
    "sin(4)"
   ]
  },
  {
   "cell_type": "code",
   "execution_count": null,
   "metadata": {},
   "outputs": [],
   "source": [
    "cos(math.pi*3)"
   ]
  },
  {
   "cell_type": "markdown",
   "metadata": {},
   "source": [
    "**Excercise 10: `numpy`**\n",
    "\n",
    "Find out about the `numpy`-module. Use its `rand()`-function to create a list of all `n`-dimensional `0-1`-vectors containing exactly two `1`-valued entries, such that each vector is contained with a probability of `40%`."
   ]
  },
  {
   "cell_type": "code",
   "execution_count": null,
   "metadata": {},
   "outputs": [],
   "source": []
  }
 ],
 "metadata": {
  "kernelspec": {
   "display_name": "Python 3",
   "language": "python",
   "name": "python3"
  },
  "language_info": {
   "codemirror_mode": {
    "name": "ipython",
    "version": 3
   },
   "file_extension": ".py",
   "mimetype": "text/x-python",
   "name": "python",
   "nbconvert_exporter": "python",
   "pygments_lexer": "ipython3",
   "version": "3.6.8"
  }
 },
 "nbformat": 4,
 "nbformat_minor": 2
}
