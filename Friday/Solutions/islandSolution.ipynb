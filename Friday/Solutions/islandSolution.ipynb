{
 "cells": [
  {
   "cell_type": "code",
   "execution_count": null,
   "metadata": {},
   "outputs": [],
   "source": [
    "from gurobipy import *\n",
    "import json\n",
    "\n",
    "with open(\"../Excercises/island.json\") as json_file:\n",
    "    data = json.load(json_file)\n",
    "\n",
    "distances={}\n",
    "for key,val in data[\"distances\"].items():\n",
    "    distances[(int(key.split()[0]),int(key.split()[1]))]=val\n",
    "    \n",
    "connections=tuplelist(distances)\n",
    "\n",
    "m=Model()\n",
    "\n",
    "x=m.addVars(connections)\n",
    "\n",
    "for key,val in distances.items():\n",
    "    if(val>5*3600):\n",
    "        m.addConstr(x[key]==0)\n",
    "        \n",
    "for pos in range(data[\"numberOfPlaces\"]):\n",
    "    if pos == data[\"start\"]:\n",
    "        m.addConstr(x.sum(pos,'*')==1+x.sum('*',pos))\n",
    "    elif pos == data[\"destination\"]:\n",
    "        m.addConstr(x.sum('*',pos)==1+x.sum(pos,'*'))\n",
    "    else:\n",
    "        m.addConstr(x.sum('*',pos)==x.sum(pos,'*'))\n",
    "        \n",
    "m.setObjective(quicksum([x[key]*val for key,val in distances.items()]),GRB.MINIMIZE)\n",
    "#m.setObjective(x.sum(),GRB.MINIMIZE)\n",
    "\n",
    "m.optimize()\n",
    "\n",
    "con_list = [con for con in connections if x[con].x>0]\n",
    "print(con_list)"
   ]
  },
  {
   "cell_type": "code",
   "execution_count": null,
   "metadata": {},
   "outputs": [],
   "source": [
    "import networkx as nx\n",
    "G = nx.DiGraph()\n",
    "G.add_nodes_from([i for i in range(data[\"numberOfPlaces\"]) if i not in (0,23)])\n",
    "G.add_edges_from(connections)\n",
    "pos = nx.layout.circular_layout(G)\n",
    "nx.draw_networkx_nodes(G, pos, node_color='#66a3ff', node_size=50) # draw nodes only\n",
    "nx.draw_networkx_labels(G, pos ) # add labels to the nodes\n",
    "nx.draw_networkx_edges(G, pos,  edge_color='#e6e6e6') # draw all edges\n",
    "nx.draw_networkx_edges(G, pos,  edgelist=con_list, edge_color='#ffa31a', width=2)"
   ]
  },
  {
   "cell_type": "code",
   "execution_count": null,
   "metadata": {},
   "outputs": [],
   "source": []
  }
 ],
 "metadata": {
  "kernelspec": {
   "display_name": "Python 3",
   "language": "python",
   "name": "python3"
  },
  "language_info": {
   "codemirror_mode": {
    "name": "ipython",
    "version": 3
   },
   "file_extension": ".py",
   "mimetype": "text/x-python",
   "name": "python",
   "nbconvert_exporter": "python",
   "pygments_lexer": "ipython3",
   "version": "3.7.0"
  }
 },
 "nbformat": 4,
 "nbformat_minor": 4
}
