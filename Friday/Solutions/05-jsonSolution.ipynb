{
 "cells": [
  {
   "cell_type": "markdown",
   "metadata": {},
   "source": [
    "# Loading JSON files"
   ]
  },
  {
   "cell_type": "markdown",
   "metadata": {},
   "source": [
    "## Crude Oil"
   ]
  },
  {
   "cell_type": "markdown",
   "metadata": {},
   "source": [
    "Let us reconsider the oil-model from the beginning of the course.\n",
    "\n",
    "$$\\begin{array}{rll}\n",
    " \\text{min} & 3x+5y \\\\\n",
    " \\text{s.t.} & 2x+y \\ge 3 \\\\\n",
    " & 2x + 2y \\ge 5 \\\\\n",
    " & x + 4y \\ge 4 \\\\\n",
    " & x,y \\ge 0 \\\\\n",
    "\\end{array}\n",
    "$$\n",
    "\n",
    "In the old implementation of this model, we defined our data within the code. This does not create a clear separation between data and code, and thus the model is less flexible, and it is harder to switch datasets. In the next step, we want to improve on this disadvantage and load our data from `crudeoil_data.json`."
   ]
  },
  {
   "cell_type": "markdown",
   "metadata": {},
   "source": [
    "### Step 1: Loading Modules"
   ]
  },
  {
   "cell_type": "code",
   "execution_count": null,
   "metadata": {},
   "outputs": [],
   "source": [
    "from gurobipy import *\n",
    "import json"
   ]
  },
  {
   "cell_type": "markdown",
   "metadata": {},
   "source": [
    "\n",
    "### Step 2: Create a Model"
   ]
  },
  {
   "cell_type": "code",
   "execution_count": null,
   "metadata": {
    "jupyter": {
     "outputs_hidden": false
    }
   },
   "outputs": [],
   "source": [
    "m = Model()"
   ]
  },
  {
   "cell_type": "markdown",
   "metadata": {},
   "source": [
    "### Step 3: Load the Data"
   ]
  },
  {
   "cell_type": "code",
   "execution_count": null,
   "metadata": {},
   "outputs": [],
   "source": [
    "with open(\"../Excercises/crudeoil_data.json\") as json_file:\n",
    "    data = json.load(json_file)\n",
    "\n",
    "data"
   ]
  },
  {
   "cell_type": "markdown",
   "metadata": {},
   "source": [
    "### Step 4: Create Variables and set Objective Function"
   ]
  },
  {
   "cell_type": "code",
   "execution_count": null,
   "metadata": {
    "jupyter": {
     "outputs_hidden": false
    }
   },
   "outputs": [],
   "source": [
    "x = m.addVars(data[\"processes\"],obj=data[\"process_cost\"],lb=0,vtype=GRB.CONTINUOUS,name=\"process\")"
   ]
  },
  {
   "cell_type": "markdown",
   "metadata": {},
   "source": [
    "### Step 5: Add Constraints"
   ]
  },
  {
   "cell_type": "code",
   "execution_count": null,
   "metadata": {
    "jupyter": {
     "outputs_hidden": false
    }
   },
   "outputs": [],
   "source": [
    "for ot in data[\"oil_types\"]:\n",
    "    m.addConstr(x.prod(data[\"production\"][ot])>=data[\"demand\"][ot])"
   ]
  },
  {
   "cell_type": "markdown",
   "metadata": {},
   "source": [
    "### Step 6: Solve"
   ]
  },
  {
   "cell_type": "code",
   "execution_count": null,
   "metadata": {
    "jupyter": {
     "outputs_hidden": false
    },
    "scrolled": true
   },
   "outputs": [],
   "source": [
    "m.optimize()"
   ]
  },
  {
   "cell_type": "markdown",
   "metadata": {},
   "source": [
    "### Step 7: Display Solution"
   ]
  },
  {
   "cell_type": "code",
   "execution_count": null,
   "metadata": {
    "jupyter": {
     "outputs_hidden": false
    }
   },
   "outputs": [],
   "source": [
    "for v in m.getVars():\n",
    "    print('%g %s' % (v.x, v.varName))\n",
    "\n",
    "print('Cost: %g' % m.objVal)\n"
   ]
  },
  {
   "cell_type": "markdown",
   "metadata": {},
   "source": [
    "## Carsharing\n",
    "\n",
    "**a)** Reimplement the carsharing model using the file `carsharing_data1.json`. Be sure to use all of the information given in the `json` file and make your implementation as flexible as possible.\n",
    "\n",
    "**b)** Check if your implementation also works on `carsharing_data2.json`."
   ]
  },
  {
   "cell_type": "code",
   "execution_count": null,
   "metadata": {},
   "outputs": [],
   "source": [
    "from gurobipy import *\n",
    "from math import sqrt\n",
    "import json\n",
    "\n",
    "def dist(positions,i,j): #distance function\n",
    "    return data[\"distanceFactor\"] * math.sqrt((positions[i][0]-positions[j][0])**2+(positions[i][1]-positions[j][1])**2)\n",
    "\n",
    "m = Model() #create model\n",
    "\n",
    "with open(\"../Excercises/carsharing_data2.json\") as json_file:\n",
    "    data = json.load(json_file)\n",
    "\n",
    "flow=m.addVars(data[\"zones\"],data[\"zones\"],vtype=GRB.CONTINUOUS,lb=0) #create variables\n",
    "for i in range(data[\"zones\"]): #add constraints\n",
    "    expr=0\n",
    "    for j in range(data[\"zones\"]):\n",
    "        expr+=flow[(j,i)]\n",
    "        expr-=flow[(i,j)]\n",
    "    m.addConstr(expr>=data[\"needed\"][i]-data[\"available\"][i])\n",
    "    \n",
    "for i in range(data[\"zones\"]): #add objective\n",
    "    for j in range(data[\"zones\"]):\n",
    "        flow[(i,j)].obj=data[\"costPerKm\"]*dist(data[\"positions\"],i,j)\n",
    "        \n",
    "m.optimize() #optimize\n",
    "\n",
    "for i in range(data[\"zones\"]): #report result\n",
    "    print(f\"outflow from station {i}: {[flow[(i,j)].x for j in range(data['zones'])]}\")"
   ]
  }
 ],
 "metadata": {
  "anaconda-cloud": {},
  "kernelspec": {
   "display_name": "Python 3",
   "language": "python",
   "name": "python3"
  },
  "language_info": {
   "codemirror_mode": {
    "name": "ipython",
    "version": 3
   },
   "file_extension": ".py",
   "mimetype": "text/x-python",
   "name": "python",
   "nbconvert_exporter": "python",
   "pygments_lexer": "ipython3",
   "version": "3.7.0"
  }
 },
 "nbformat": 4,
 "nbformat_minor": 4
}
