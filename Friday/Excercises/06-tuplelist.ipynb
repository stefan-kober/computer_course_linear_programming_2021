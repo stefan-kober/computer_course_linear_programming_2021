{
 "cells": [
  {
   "cell_type": "markdown",
   "metadata": {},
   "source": [
    "# Advanced Gurobipy Datatypes"
   ]
  },
  {
   "cell_type": "markdown",
   "metadata": {},
   "source": [
    "## Netflow"
   ]
  },
  {
   "cell_type": "markdown",
   "metadata": {},
   "source": [
    "Source/Inspiration: https://www.gurobi.com/documentation/8.1/quickstart_linux/py_netflow_py_example.html\n",
    "\n",
    "Consider a production network with the following properties:\n",
    "* 2 products (pens and pencils)\n",
    "* 2 production locations (Detroit and Denver)\n",
    "* 3 warehouses (Boston, New York and Seattle)\n",
    "* demand in the warehouses that needs to be satisfied\n",
    "* capacities on the connections between production sites and warehouses\n",
    "* cost for transportation\n",
    "\n",
    "The goal is to satisfy the demand while taking the capacities into account and minimizing the cost for transportation.\n",
    "\n",
    "Below tables indicate the demand, the capacities and the costs (negative demand indicates the production volume).\n",
    "\n",
    "| Demand   | Pencils | Pens |\n",
    "|----------|---------|------|\n",
    "| Detroit  | -50     | -60  |\n",
    "| Denver   | -60     | -40  |\n",
    "| Boston   | 50      | 40   |\n",
    "| New York | 50      | 30   |\n",
    "| Seattle  | 10      | 30   |\n",
    "\n",
    "\n",
    "| Capacities | Boston | New York | Seattle |\n",
    "|------------|--------|----------|---------|\n",
    "| Detroit    | 100    | 80       | 120     |\n",
    "| Denver     | 120    | 120      | 120     |\n",
    "\n",
    "| Cost: Pencils | Boston | New York | Seattle |\n",
    "|---------------|--------|----------|---------|\n",
    "| Detroit       | 10     | 20       | 60      |\n",
    "| Denver        | 40     | 40       | 30      |\n",
    "\n",
    "| Cost: Pens | Boston | New York | Seattle |\n",
    "|------------|--------|----------|---------|\n",
    "| Detroit    | 20     | 20       | 80      |\n",
    "| Denver     | 60     | 70       | 30      |"
   ]
  },
  {
   "cell_type": "markdown",
   "metadata": {},
   "source": [
    "**Excercise 1**\n",
    "\n",
    "Formulate a corresponding LP-model. For this, you will first have to find a suitable set of variables, constraints and a cost-function.\n",
    "\n",
    "In the next step, implement and solve your model while relying on multilists and multidics to make constraint creation easier. You can use the started code below."
   ]
  },
  {
   "cell_type": "code",
   "execution_count": null,
   "metadata": {},
   "outputs": [],
   "source": [
    "from gurobipy import *\n",
    "\n",
    "products = ['Pencils', 'Pens']\n",
    "nodes = ['Detroit', 'Denver', 'Boston', 'New  York', 'Seattle']\n",
    "\n",
    "arcs , capacity = multidict ({('Detroit' , 'Boston'):100,\n",
    "                              ('Detroit' , 'New  York'):80,\n",
    "                              ('Detroit' , 'Seattle'):120,\n",
    "                              ('Denver' ,  'Boston'):120,\n",
    "                              ('Denver' ,  'New  York'):120,\n",
    "                              ('Denver' ,  'Seattle'):120 })\n",
    "\n",
    "cost = {('Pencils', 'Detroit', 'Boston'):    10,\n",
    "        ('Pencils', 'Detroit', 'New  York'): 20,\n",
    "        ('Pencils', 'Detroit', 'Seattle'):   60,\n",
    "        ('Pencils', 'Denver',  'Boston'):    40,\n",
    "        ('Pencils', 'Denver',  'New  York'): 40,\n",
    "        ('Pencils', 'Denver',  'Seattle'):   30,\n",
    "        ('Pens','Detroit','Boston'):    20,\n",
    "        ('Pens','Detroit','New  York'): 20,\n",
    "        ('Pens','Detroit','Seattle'):   80,\n",
    "        ('Pens','Denver','Boston'):    60,\n",
    "        ('Pens','Denver','New  York'): 70,\n",
    "        ('Pens','Denver','Seattle'):   30}\n",
    "\n",
    "demand = {('Pencils', 'Detroit'):    -50,\n",
    "          ('Pencils', 'Denver'):     -60,\n",
    "          ('Pencils', 'Boston'):    50,\n",
    "          ('Pencils', 'New  York'):  50,\n",
    "          ('Pencils', 'Seattle'):   10,\n",
    "          ('Pens','Detroit'):    -60,\n",
    "          ('Pens','Denver'):     -40,\n",
    "          ('Pens','Boston'):    40,\n",
    "          ('Pens','New  York'):  30,\n",
    "          ('Pens','Seattle'):   30 }\n",
    "\n",
    "m=Model()\n",
    "\n",
    "flow = m.addVars(products , arcs , obj=cost , name=\"flow\")\n",
    "\n",
    "#add constraints\n",
    "\n",
    "\n",
    "\n",
    "#optimize and output solution\n",
    "\n",
    "m.optimize()"
   ]
  },
  {
   "cell_type": "markdown",
   "metadata": {},
   "source": [
    "**Excercise 2**\n",
    "\n",
    "Extend your formulation of the `carsharing` problem to rely on `tuplelist` and `tupledict`. Try to create the corresponding constraints as efficiently as possible."
   ]
  },
  {
   "cell_type": "code",
   "execution_count": null,
   "metadata": {},
   "outputs": [],
   "source": []
  }
 ],
 "metadata": {
  "anaconda-cloud": {},
  "kernelspec": {
   "display_name": "Python 3",
   "language": "python",
   "name": "python3"
  },
  "language_info": {
   "codemirror_mode": {
    "name": "ipython",
    "version": 3
   },
   "file_extension": ".py",
   "mimetype": "text/x-python",
   "name": "python",
   "nbconvert_exporter": "python",
   "pygments_lexer": "ipython3",
   "version": "3.7.0"
  }
 },
 "nbformat": 4,
 "nbformat_minor": 4
}
